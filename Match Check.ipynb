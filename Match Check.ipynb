{
 "cells": [
  {
   "cell_type": "code",
   "execution_count": null,
   "metadata": {},
   "outputs": [],
   "source": [
    "import pandas as pd\n",
    "col=[\"Object Name\",\"Batch\"]\n",
    "bcol=[\"name\",\"date_export\"]\n",
    "df = pd.read_excel(\"Main.xlsx\",\"Sheet1\")\n",
    "batch1 = pd.read_csv(\"excel/Batch1_log_db_uc_aaa.csv\",usecols=bcol)\n",
    "length = len(df)\n",
    "\n",
    "#batch2 = pd.read_csv(\"excel/\",usecols=bcol)\n",
    "#batch3 = pd.read_csv(\"excel/\",usecols=bcol)\n",
    "\n",
    "batch4 = pd.read_csv(\"excel/Batch4_log_db_uc_aaa.csv\",usecols=bcol)\n",
    "\n",
    "batch5_1 = pd.read_csv(\"excel/Batch5_log_db_ams.csv\",usecols=bcol)\n",
    "batch5_2 = pd.read_csv(\"excel/Batch5_log_db_fyc.csv\",usecols=bcol)\n",
    "\n",
    "\n",
    "\n",
    "batch6 = pd.read_csv(\"excel/Batch6_log_db_uc_aaa.csv\",usecols=bcol)\n",
    "\n",
    "\n",
    "batch7_1 = pd.read_csv(\"excel/Batch7_log_db_ams.csv\",usecols=bcol)\n",
    "batch7_2 = pd.read_csv(\"excel/Batch7_log_db_uc_aaa.csv\",usecols=bcol)\n",
    "\n",
    "\n",
    "\n",
    "batch8_1 = pd.read_csv(\"excel/Batch8_log_db_ams_bkup_kra_current.csv\",usecols=bcol)\n",
    "batch8_2 = pd.read_csv(\"excel/Batch8_log_db_ams_bkup_kra_last.csv\",usecols=bcol)\n",
    "\n",
    "batch9 = pd.read_csv(\"excel/Batch9_log_db_banc.csv\",usecols=bcol)\n",
    "\n"
   ]
  },
  {
   "cell_type": "code",
   "execution_count": 322,
   "metadata": {},
   "outputs": [],
   "source": [
    "start()"
   ]
  },
  {
   "cell_type": "code",
   "execution_count": null,
   "metadata": {},
   "outputs": [],
   "source": [
    "\n",
    "def matchCheck(y,z):\n",
    "    for j in range(len(y)):\n",
    "       if  df.loc[df.index[z],'Object Name'] == y.loc[y.index[j],'name'] :\n",
    "           df.loc[df.index[z],'Date'] = y.loc[y.index[j],'date_export']\n",
    "    \n"
   ]
  },
  {
   "cell_type": "code",
   "execution_count": null,
   "metadata": {},
   "outputs": [],
   "source": [
    "def start():\n",
    "    for i in range(length):\n",
    "        if df.loc[df.index[i], 'Batch'] == 'Batch4':\n",
    "            matchCheck(batch4, i)\n",
    "\n",
    "        # elif df.loc[df.index[i],'Batch'] == 'Batch2' :\n",
    "        #    matchCheck(batch2,i)\n",
    "        # elif df.loc[df.index[i],'Batch'] == 'Batch3' :\n",
    "        #    matchCheck(batch3,i)\n",
    "\n",
    "        elif df.loc[df.index[i],'Batch'] == 'Batch4' :\n",
    "            matchCheck(batch4,i)\n",
    "    \n",
    "        elif df.loc[df.index[i],'Batch'] == 'Batch5' :\n",
    "            matchCheck(batch5_1,i)\n",
    "            matchCheck(batch5_2,i)\n",
    "\n",
    "        elif df.loc[df.index[i],'Batch'] == 'Batch6' :\n",
    "            matchCheck(batch6,i)\n",
    "\n",
    "        elif df.loc[df.index[i],'Batch'] == 'Batch7' :\n",
    "            matchCheck(batch7_1,i)\n",
    "            matchCheck(batch7_2,i)\n",
    "\n",
    "        elif df.loc[df.index[i],'Batch'] == 'Batch8' :\n",
    "            matchCheck(batch8_1,i)\n",
    "            matchCheck(batch8_2,i)\n",
    "\n",
    "        elif df.loc[df.index[i],'Batch'] == 'Batch9' :\n",
    "            matchCheck(batch9,i)\n",
    "    df.to_csv('Assign.csv')        \n"
   ]
  }
 ],
 "metadata": {
  "kernelspec": {
   "display_name": "Python 3.10.5 64-bit",
   "language": "python",
   "name": "python3"
  },
  "language_info": {
   "codemirror_mode": {
    "name": "ipython",
    "version": 3
   },
   "file_extension": ".py",
   "mimetype": "text/x-python",
   "name": "python",
   "nbconvert_exporter": "python",
   "pygments_lexer": "ipython3",
   "version": "3.10.5"
  },
  "orig_nbformat": 4,
  "vscode": {
   "interpreter": {
    "hash": "cd55aa8cdb19a36e50e44236e720743553d81095044825d62b850579d0c143bf"
   }
  }
 },
 "nbformat": 4,
 "nbformat_minor": 2
}
